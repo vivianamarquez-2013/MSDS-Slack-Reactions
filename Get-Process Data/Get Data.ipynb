{
 "cells": [
  {
   "cell_type": "code",
   "execution_count": 1,
   "metadata": {},
   "outputs": [],
   "source": [
    "import pandas as pd\n",
    "from datetime import datetime as dt\n",
    "import requests \n",
    "import re\n",
    "import html\n",
    "import wget\n",
    "import os\n",
    "import shutil"
   ]
  },
  {
   "cell_type": "code",
   "execution_count": 2,
   "metadata": {},
   "outputs": [],
   "source": [
    "token = open(\"../token.txt\", \"r\").read()"
   ]
  },
  {
   "cell_type": "markdown",
   "metadata": {},
   "source": [
    "# Get channels and their IDs\n",
    "Info: https://api.slack.com/methods/channels.list/test <br>\n",
    "https://api.slack.com/methods/users.info/test"
   ]
  },
  {
   "cell_type": "code",
   "execution_count": 3,
   "metadata": {},
   "outputs": [],
   "source": [
    "def get_user_name(user_id):\n",
    "    \"\"\"Get an user's name given their Slack ID\"\"\"\n",
    "    address = f\"https://slack.com/api/users.info?token={token}&user={user_id}&pretty=1\"\n",
    "    r = requests.get(address)\n",
    "    if '\"error\": \"user_not_found\"' in str(r.content): return None\n",
    "    user_name = str(r.content).split('real_name_normalized\": ')[1].split(\",\")[0].split('\"')[1]\n",
    "    return user_name"
   ]
  },
  {
   "cell_type": "code",
   "execution_count": 4,
   "metadata": {},
   "outputs": [],
   "source": [
    "def get_channels():\n",
    "    \"\"\"Returns a data frame with of all the public channels in your Slack workspace\"\"\"\n",
    "    address = f\"https://slack.com/api/channels.list?token={token}&pretty=1\"\n",
    "    channels = sorted(requests.get(address).json()['channels'], key=lambda k: k['created'])\n",
    "    df_channels = []\n",
    "    for channel in channels :\n",
    "        channel_id = channel['id']\n",
    "        channel_name = channel['name']\n",
    "        created_date = dt.fromtimestamp(channel['created']).strftime('%Y-%m-%d')\n",
    "        created_by = get_user_name(channel['creator'])\n",
    "        df_channels.append([channel_id, channel_name, created_date, created_by])\n",
    "    df_channels = pd.DataFrame(df_channels)\n",
    "    df_channels.columns = ['channel_id', 'channel_name', 'created_date', 'created_by']\n",
    "    return df_channels"
   ]
  },
  {
   "cell_type": "code",
   "execution_count": 5,
   "metadata": {},
   "outputs": [],
   "source": [
    "channels = get_channels()"
   ]
  },
  {
   "cell_type": "code",
   "execution_count": 6,
   "metadata": {},
   "outputs": [],
   "source": [
    "channels.to_csv(\"../info/channels.csv\", index=False)"
   ]
  },
  {
   "cell_type": "code",
   "execution_count": 7,
   "metadata": {},
   "outputs": [
    {
     "data": {
      "text/html": [
       "<div>\n",
       "<style scoped>\n",
       "    .dataframe tbody tr th:only-of-type {\n",
       "        vertical-align: middle;\n",
       "    }\n",
       "\n",
       "    .dataframe tbody tr th {\n",
       "        vertical-align: top;\n",
       "    }\n",
       "\n",
       "    .dataframe thead th {\n",
       "        text-align: right;\n",
       "    }\n",
       "</style>\n",
       "<table border=\"1\" class=\"dataframe\">\n",
       "  <thead>\n",
       "    <tr style=\"text-align: right;\">\n",
       "      <th></th>\n",
       "      <th>channel_id</th>\n",
       "      <th>channel_name</th>\n",
       "      <th>created_date</th>\n",
       "      <th>created_by</th>\n",
       "      <th>folder</th>\n",
       "      <th>actual_name</th>\n",
       "      <th>folder_name</th>\n",
       "    </tr>\n",
       "  </thead>\n",
       "  <tbody>\n",
       "    <tr>\n",
       "      <th>0</th>\n",
       "      <td>C0GQ664PQ</td>\n",
       "      <td>general</td>\n",
       "      <td>2015-12-16</td>\n",
       "      <td>Paul</td>\n",
       "      <td>others</td>\n",
       "      <td>general</td>\n",
       "      <td>general</td>\n",
       "    </tr>\n",
       "    <tr>\n",
       "      <th>1</th>\n",
       "      <td>C0GQ0GH1S</td>\n",
       "      <td>random</td>\n",
       "      <td>2015-12-16</td>\n",
       "      <td>Paul</td>\n",
       "      <td>others</td>\n",
       "      <td>random</td>\n",
       "      <td>random</td>\n",
       "    </tr>\n",
       "    <tr>\n",
       "      <th>2</th>\n",
       "      <td>CBH1274KV</td>\n",
       "      <td>msan501</td>\n",
       "      <td>2018-07-01</td>\n",
       "      <td>Terence</td>\n",
       "      <td>mod1_summer</td>\n",
       "      <td>Computation for Analytics</td>\n",
       "      <td>computation_for_analytics</td>\n",
       "    </tr>\n",
       "    <tr>\n",
       "      <th>3</th>\n",
       "      <td>CBL5QGXCG</td>\n",
       "      <td>msan502-2018</td>\n",
       "      <td>2018-07-08</td>\n",
       "      <td>Kirsten</td>\n",
       "      <td>mod1_summer</td>\n",
       "      <td>Linear Algebra</td>\n",
       "      <td>linear_algebra</td>\n",
       "    </tr>\n",
       "    <tr>\n",
       "      <th>4</th>\n",
       "      <td>CBMV8E51R</td>\n",
       "      <td>msan504_2018</td>\n",
       "      <td>2018-07-10</td>\n",
       "      <td>Jeff</td>\n",
       "      <td>mod1_summer</td>\n",
       "      <td>Probability and Statistics</td>\n",
       "      <td>probability_and_statistics</td>\n",
       "    </tr>\n",
       "    <tr>\n",
       "      <th>5</th>\n",
       "      <td>CBN6PBL9X</td>\n",
       "      <td>msds_593_2018</td>\n",
       "      <td>2018-07-11</td>\n",
       "      <td>Paul</td>\n",
       "      <td>mod1_summer</td>\n",
       "      <td>Exploratory Data Analysis with R</td>\n",
       "      <td>exploratory_data_analysis_with_r</td>\n",
       "    </tr>\n",
       "    <tr>\n",
       "      <th>6</th>\n",
       "      <td>CBUMPR80J</td>\n",
       "      <td>msds_610_2018</td>\n",
       "      <td>2018-07-21</td>\n",
       "      <td>Brian</td>\n",
       "      <td>mod2_fall1</td>\n",
       "      <td>Communications for Analytics</td>\n",
       "      <td>communications_for_analytics</td>\n",
       "    </tr>\n",
       "    <tr>\n",
       "      <th>7</th>\n",
       "      <td>CC7KMCM1D</td>\n",
       "      <td>msds692</td>\n",
       "      <td>2018-08-10</td>\n",
       "      <td>Terence</td>\n",
       "      <td>mod2_fall1</td>\n",
       "      <td>Data Acquisition</td>\n",
       "      <td>data_acquisition</td>\n",
       "    </tr>\n",
       "    <tr>\n",
       "      <th>8</th>\n",
       "      <td>CC7S5NSE7</td>\n",
       "      <td>msds691_2018</td>\n",
       "      <td>2018-08-13</td>\n",
       "      <td>Nick</td>\n",
       "      <td>mod2_fall1</td>\n",
       "      <td>Relational Databases (SQL)</td>\n",
       "      <td>relational_databases_(sql)</td>\n",
       "    </tr>\n",
       "    <tr>\n",
       "      <th>9</th>\n",
       "      <td>CCBDZ180N</td>\n",
       "      <td>msan601_2018</td>\n",
       "      <td>2018-08-16</td>\n",
       "      <td>Jeff</td>\n",
       "      <td>mod2_fall1</td>\n",
       "      <td>Linear Regression Analysis</td>\n",
       "      <td>linear_regression_analysis</td>\n",
       "    </tr>\n",
       "    <tr>\n",
       "      <th>10</th>\n",
       "      <td>CCFG7MWSJ</td>\n",
       "      <td>msds_621_2018</td>\n",
       "      <td>2018-08-23</td>\n",
       "      <td>Brian</td>\n",
       "      <td>mod3_fall2</td>\n",
       "      <td>Introduction to Machine Learning</td>\n",
       "      <td>introduction_to_machine_learning</td>\n",
       "    </tr>\n",
       "    <tr>\n",
       "      <th>11</th>\n",
       "      <td>CDE0N56PJ</td>\n",
       "      <td>msds694_2018</td>\n",
       "      <td>2018-10-15</td>\n",
       "      <td>Diane</td>\n",
       "      <td>mod3_fall2</td>\n",
       "      <td>Distributed Computing</td>\n",
       "      <td>distributed_computing</td>\n",
       "    </tr>\n",
       "    <tr>\n",
       "      <th>12</th>\n",
       "      <td>CDH0F8NBF</td>\n",
       "      <td>msds604_time_series</td>\n",
       "      <td>2018-10-17</td>\n",
       "      <td>Nathaniel</td>\n",
       "      <td>mod3_fall2</td>\n",
       "      <td>Time Series Analysis</td>\n",
       "      <td>time_series_analysis</td>\n",
       "    </tr>\n",
       "    <tr>\n",
       "      <th>13</th>\n",
       "      <td>CDR1BBV1U</td>\n",
       "      <td>msds_cats</td>\n",
       "      <td>2018-10-26</td>\n",
       "      <td>Viviana</td>\n",
       "      <td>others</td>\n",
       "      <td>Cats</td>\n",
       "      <td>cats</td>\n",
       "    </tr>\n",
       "    <tr>\n",
       "      <th>14</th>\n",
       "      <td>CDNTUSXBJ</td>\n",
       "      <td>msds_doggos</td>\n",
       "      <td>2018-10-26</td>\n",
       "      <td>Brian</td>\n",
       "      <td>others</td>\n",
       "      <td>Dogs</td>\n",
       "      <td>dogs</td>\n",
       "    </tr>\n",
       "    <tr>\n",
       "      <th>15</th>\n",
       "      <td>CECNJCHBL</td>\n",
       "      <td>msds_awkwards</td>\n",
       "      <td>2018-11-26</td>\n",
       "      <td>Wendy</td>\n",
       "      <td>others</td>\n",
       "      <td>Awkwards</td>\n",
       "      <td>awkwards</td>\n",
       "    </tr>\n",
       "    <tr>\n",
       "      <th>16</th>\n",
       "      <td>CEQ99D7K6</td>\n",
       "      <td>msds697_2019</td>\n",
       "      <td>2018-12-10</td>\n",
       "      <td>Diane</td>\n",
       "      <td>mod4_winter</td>\n",
       "      <td>Distributed Data Systems</td>\n",
       "      <td>distributed_data_systems</td>\n",
       "    </tr>\n",
       "    <tr>\n",
       "      <th>17</th>\n",
       "      <td>CF8KTLC3A</td>\n",
       "      <td>msds689</td>\n",
       "      <td>2019-01-08</td>\n",
       "      <td>Terence</td>\n",
       "      <td>mod5_spring1</td>\n",
       "      <td>Problem Solving with Python</td>\n",
       "      <td>problem_solving_with_python</td>\n",
       "    </tr>\n",
       "    <tr>\n",
       "      <th>18</th>\n",
       "      <td>CFKG90162</td>\n",
       "      <td>ml-2-2019</td>\n",
       "      <td>2019-01-19</td>\n",
       "      <td>Yannet</td>\n",
       "      <td>mod5_spring1</td>\n",
       "      <td>Advanced Machine Learning</td>\n",
       "      <td>advanced_machine_learning</td>\n",
       "    </tr>\n",
       "    <tr>\n",
       "      <th>19</th>\n",
       "      <td>CFKD35L02</td>\n",
       "      <td>comp-stats-2019</td>\n",
       "      <td>2019-01-21</td>\n",
       "      <td>James</td>\n",
       "      <td>mod5_spring1</td>\n",
       "      <td>Computational Statistics</td>\n",
       "      <td>computational_statistics</td>\n",
       "    </tr>\n",
       "    <tr>\n",
       "      <th>20</th>\n",
       "      <td>CGT513864</td>\n",
       "      <td>msds603_2019</td>\n",
       "      <td>2019-03-09</td>\n",
       "      <td>Diane</td>\n",
       "      <td>mod6_spring2</td>\n",
       "      <td>Product Analytics</td>\n",
       "      <td>product_analytics</td>\n",
       "    </tr>\n",
       "    <tr>\n",
       "      <th>21</th>\n",
       "      <td>CGY6SPRGD</td>\n",
       "      <td>msds_datavis_2019</td>\n",
       "      <td>2019-03-13</td>\n",
       "      <td>Kirsten</td>\n",
       "      <td>mod6_spring2</td>\n",
       "      <td>Data Visualization</td>\n",
       "      <td>data_visualization</td>\n",
       "    </tr>\n",
       "    <tr>\n",
       "      <th>22</th>\n",
       "      <td>CH30X7Z18</td>\n",
       "      <td>expdesign</td>\n",
       "      <td>2019-03-18</td>\n",
       "      <td>James</td>\n",
       "      <td>mod6_spring2</td>\n",
       "      <td>Experiments in Data Science</td>\n",
       "      <td>experiments_in_data_science</td>\n",
       "    </tr>\n",
       "  </tbody>\n",
       "</table>\n",
       "</div>"
      ],
      "text/plain": [
       "   channel_id         channel_name created_date created_by        folder  \\\n",
       "0   C0GQ664PQ              general   2015-12-16       Paul        others   \n",
       "1   C0GQ0GH1S               random   2015-12-16       Paul        others   \n",
       "2   CBH1274KV              msan501   2018-07-01    Terence   mod1_summer   \n",
       "3   CBL5QGXCG         msan502-2018   2018-07-08    Kirsten   mod1_summer   \n",
       "4   CBMV8E51R         msan504_2018   2018-07-10       Jeff   mod1_summer   \n",
       "5   CBN6PBL9X        msds_593_2018   2018-07-11       Paul   mod1_summer   \n",
       "6   CBUMPR80J        msds_610_2018   2018-07-21      Brian    mod2_fall1   \n",
       "7   CC7KMCM1D              msds692   2018-08-10    Terence    mod2_fall1   \n",
       "8   CC7S5NSE7         msds691_2018   2018-08-13       Nick    mod2_fall1   \n",
       "9   CCBDZ180N         msan601_2018   2018-08-16       Jeff    mod2_fall1   \n",
       "10  CCFG7MWSJ        msds_621_2018   2018-08-23      Brian    mod3_fall2   \n",
       "11  CDE0N56PJ         msds694_2018   2018-10-15      Diane    mod3_fall2   \n",
       "12  CDH0F8NBF  msds604_time_series   2018-10-17  Nathaniel    mod3_fall2   \n",
       "13  CDR1BBV1U            msds_cats   2018-10-26    Viviana        others   \n",
       "14  CDNTUSXBJ          msds_doggos   2018-10-26      Brian        others   \n",
       "15  CECNJCHBL        msds_awkwards   2018-11-26      Wendy        others   \n",
       "16  CEQ99D7K6         msds697_2019   2018-12-10      Diane   mod4_winter   \n",
       "17  CF8KTLC3A              msds689   2019-01-08    Terence  mod5_spring1   \n",
       "18  CFKG90162            ml-2-2019   2019-01-19     Yannet  mod5_spring1   \n",
       "19  CFKD35L02      comp-stats-2019   2019-01-21      James  mod5_spring1   \n",
       "20  CGT513864         msds603_2019   2019-03-09      Diane  mod6_spring2   \n",
       "21  CGY6SPRGD    msds_datavis_2019   2019-03-13    Kirsten  mod6_spring2   \n",
       "22  CH30X7Z18            expdesign   2019-03-18      James  mod6_spring2   \n",
       "\n",
       "                         actual_name                       folder_name  \n",
       "0                            general                           general  \n",
       "1                             random                            random  \n",
       "2          Computation for Analytics         computation_for_analytics  \n",
       "3                     Linear Algebra                    linear_algebra  \n",
       "4         Probability and Statistics        probability_and_statistics  \n",
       "5   Exploratory Data Analysis with R  exploratory_data_analysis_with_r  \n",
       "6       Communications for Analytics      communications_for_analytics  \n",
       "7                   Data Acquisition                  data_acquisition  \n",
       "8         Relational Databases (SQL)        relational_databases_(sql)  \n",
       "9         Linear Regression Analysis        linear_regression_analysis  \n",
       "10  Introduction to Machine Learning  introduction_to_machine_learning  \n",
       "11             Distributed Computing             distributed_computing  \n",
       "12              Time Series Analysis              time_series_analysis  \n",
       "13                              Cats                              cats  \n",
       "14                              Dogs                              dogs  \n",
       "15                          Awkwards                          awkwards  \n",
       "16          Distributed Data Systems          distributed_data_systems  \n",
       "17       Problem Solving with Python       problem_solving_with_python  \n",
       "18         Advanced Machine Learning         advanced_machine_learning  \n",
       "19          Computational Statistics          computational_statistics  \n",
       "20                 Product Analytics                 product_analytics  \n",
       "21                Data Visualization                data_visualization  \n",
       "22       Experiments in Data Science       experiments_in_data_science  "
      ]
     },
     "execution_count": 7,
     "metadata": {},
     "output_type": "execute_result"
    }
   ],
   "source": [
    "channels = pd.read_csv(\"../info/channels_labeled_google.csv\")\n",
    "channels = channels[channels['keep']==1].drop(['keep'], axis=1).reset_index(drop=True)\n",
    "channels['created_by'] = channels['created_by'].apply(lambda full_name: full_name.split()[0]) # hide last names\n",
    "channels['folder_name'] = channels['actual_name'].apply(lambda name: \"_\".join(name.lower().split()))\n",
    "channels"
   ]
  },
  {
   "cell_type": "code",
   "execution_count": 8,
   "metadata": {},
   "outputs": [],
   "source": [
    "channels.to_csv(\"../info/channels_labeled.csv\", index=False)"
   ]
  },
  {
   "cell_type": "markdown",
   "metadata": {},
   "source": [
    "# Get all history from channels\n",
    "Info: https://api.slack.com/methods/channels.history/test"
   ]
  },
  {
   "cell_type": "code",
   "execution_count": 9,
   "metadata": {},
   "outputs": [],
   "source": [
    "init_date = 1530835200 # July 6th, 2018"
   ]
  },
  {
   "cell_type": "code",
   "execution_count": 10,
   "metadata": {},
   "outputs": [],
   "source": [
    "def get_channel_history(channel):\n",
    "    \"\"\"Returns a dictionary with all the messages in the given channel\"\"\"\n",
    "    since = init_date\n",
    "    address = f\"https://slack.com/api/channels.history?token={token}&channel={channel}&count={1000}&oldest={since}%20&pretty=1\"\n",
    "    data = requests.get(address).json()\n",
    "    \n",
    "    since = data['messages'][0]['ts']\n",
    "    while data['has_more']:\n",
    "        address = f\"https://slack.com/api/channels.history?token={token}&channel={channel}&count={1000}&oldest={since}%20&pretty=1\"\n",
    "        new_data = requests.get(address).json()\n",
    "        data['messages'] = new_data['messages'] + data['messages']\n",
    "        since = new_data['messages'][0]['ts']\n",
    "        data['has_more'] = new_data['has_more']\n",
    "    return data['messages']"
   ]
  },
  {
   "cell_type": "code",
   "execution_count": 11,
   "metadata": {},
   "outputs": [],
   "source": [
    "for channel in channels.channel_id:\n",
    "    path1 = list(\"../data/\" + channels[channels['channel_id']==channel]['folder'])[0]\n",
    "    path2 = path1 + \"/\" + list(channels[channels['channel_id']==channel]['folder_name']+\".json\")[0]\n",
    "    if os.path.exists(path1) == False:\n",
    "        os.mkdir(path1) \n",
    "    json.dump(get_channel_history(channel),open(path2,\"w\"))"
   ]
  },
  {
   "cell_type": "markdown",
   "metadata": {},
   "source": [
    "# Get members"
   ]
  },
  {
   "cell_type": "code",
   "execution_count": 12,
   "metadata": {},
   "outputs": [],
   "source": [
    "# Messages as of Apr 26, 2019\n",
    "# (This could be improved by getting all the users from all the messages in the data folder)\n",
    "channels_hist = pd.read_csv(\"../info/channels_messages04262019.csv\")"
   ]
  },
  {
   "cell_type": "code",
   "execution_count": 13,
   "metadata": {},
   "outputs": [],
   "source": [
    "messages = str(channels_hist.messages.values)"
   ]
  },
  {
   "cell_type": "code",
   "execution_count": 14,
   "metadata": {},
   "outputs": [],
   "source": [
    "users = set(re.findall(\"[U][A-Z0-9]{8}\",str(messages)))"
   ]
  },
  {
   "cell_type": "code",
   "execution_count": 15,
   "metadata": {},
   "outputs": [],
   "source": [
    "members = []\n",
    "for user in users:\n",
    "    name = get_user_name(user)\n",
    "    if name is not None: members.append([user,get_user_name(user)])\n",
    "\n",
    "members = pd.DataFrame(members)\n",
    "members.columns = ['member_id', 'member_name']"
   ]
  },
  {
   "cell_type": "code",
   "execution_count": 16,
   "metadata": {},
   "outputs": [],
   "source": [
    "members.to_csv(\"../info/members.csv\", index=False)"
   ]
  },
  {
   "cell_type": "code",
   "execution_count": 17,
   "metadata": {},
   "outputs": [],
   "source": [
    "members = pd.read_csv(\"../info/members_labeled.csv\")"
   ]
  },
  {
   "cell_type": "code",
   "execution_count": 18,
   "metadata": {},
   "outputs": [
    {
     "data": {
      "text/plain": [
       "student        83\n",
       "guest          28\n",
       "professor      18\n",
       "deactivated    12\n",
       "bot             3\n",
       "Name: member_type, dtype: int64"
      ]
     },
     "execution_count": 18,
     "metadata": {},
     "output_type": "execute_result"
    }
   ],
   "source": [
    "members.member_type.value_counts()"
   ]
  },
  {
   "cell_type": "code",
   "execution_count": 19,
   "metadata": {},
   "outputs": [
    {
     "data": {
      "text/plain": [
       "China        31\n",
       "USA          29\n",
       "India         7\n",
       "Taiwan        2\n",
       "Korea         1\n",
       "England       1\n",
       "Spain         1\n",
       "Colombia      1\n",
       "Canada        1\n",
       "Germany       1\n",
       "Vietnam       1\n",
       "Singapore     1\n",
       "Peru          1\n",
       "Armenia       1\n",
       "Brazil        1\n",
       "Malaysia      1\n",
       "Tunisia       1\n",
       "Russia        1\n",
       "Name: country, dtype: int64"
      ]
     },
     "execution_count": 19,
     "metadata": {},
     "output_type": "execute_result"
    }
   ],
   "source": [
    "members[members[\"member_type\"]==\"student\"].country.value_counts()"
   ]
  },
  {
   "cell_type": "markdown",
   "metadata": {},
   "source": [
    "# Get emojis\n",
    "Info: https://api.slack.com/methods/emoji.list/test <br>\n",
    "https://stackoverflow.com/questions/39490865/how-can-i-get-the-full-list-of-slack-emoji-through-api/39654939 <br>\n",
    "https://unicodey.com/emoji-data/table.htm"
   ]
  },
  {
   "cell_type": "markdown",
   "metadata": {},
   "source": [
    "### Get default emojis"
   ]
  },
  {
   "cell_type": "code",
   "execution_count": 20,
   "metadata": {},
   "outputs": [],
   "source": [
    "def get_default_emojis():\n",
    "    if os.path.exists('../info/default_emojis/'):\n",
    "        shutil.rmtree('../info/default_emojis/')\n",
    "    os.mkdir('../info/default_emojis/') \n",
    "    default_emojis = [(emoji['short_name'],emoji['image']) for emoji in json.load(open(\"../info/all_default_emojis.json\"))]\n",
    "    emojis = []\n",
    "    for emoji in default_emojis:\n",
    "        name = emoji[0]\n",
    "        url = f\"https://unicodey.com/emoji-data/img-apple-64/{emoji[1]}\"\n",
    "        ext = url.split('.')[-1]\n",
    "        path = f\"../info/default_emojis/{name}.{ext}\"\n",
    "        try:\n",
    "            wget.download(url, path)\n",
    "        except:\n",
    "            path = None\n",
    "        emojis.append([name,path,\"default\"])\n",
    "    default_emojis = pd.DataFrame(emojis, columns=['name','image','type'])\n",
    "    return default_emojis"
   ]
  },
  {
   "cell_type": "code",
   "execution_count": 21,
   "metadata": {},
   "outputs": [],
   "source": [
    "default_emojis = get_default_emojis()"
   ]
  },
  {
   "cell_type": "code",
   "execution_count": 22,
   "metadata": {},
   "outputs": [
    {
     "data": {
      "text/html": [
       "<div>\n",
       "<style scoped>\n",
       "    .dataframe tbody tr th:only-of-type {\n",
       "        vertical-align: middle;\n",
       "    }\n",
       "\n",
       "    .dataframe tbody tr th {\n",
       "        vertical-align: top;\n",
       "    }\n",
       "\n",
       "    .dataframe thead th {\n",
       "        text-align: right;\n",
       "    }\n",
       "</style>\n",
       "<table border=\"1\" class=\"dataframe\">\n",
       "  <thead>\n",
       "    <tr style=\"text-align: right;\">\n",
       "      <th></th>\n",
       "      <th>name</th>\n",
       "      <th>image</th>\n",
       "      <th>type</th>\n",
       "    </tr>\n",
       "  </thead>\n",
       "  <tbody>\n",
       "    <tr>\n",
       "      <th>0</th>\n",
       "      <td>hash</td>\n",
       "      <td>../info/default_emojis/hash.png</td>\n",
       "      <td>default</td>\n",
       "    </tr>\n",
       "    <tr>\n",
       "      <th>1</th>\n",
       "      <td>keycap_star</td>\n",
       "      <td>../info/default_emojis/keycap_star.png</td>\n",
       "      <td>default</td>\n",
       "    </tr>\n",
       "    <tr>\n",
       "      <th>2</th>\n",
       "      <td>zero</td>\n",
       "      <td>../info/default_emojis/zero.png</td>\n",
       "      <td>default</td>\n",
       "    </tr>\n",
       "    <tr>\n",
       "      <th>3</th>\n",
       "      <td>one</td>\n",
       "      <td>../info/default_emojis/one.png</td>\n",
       "      <td>default</td>\n",
       "    </tr>\n",
       "    <tr>\n",
       "      <th>4</th>\n",
       "      <td>two</td>\n",
       "      <td>../info/default_emojis/two.png</td>\n",
       "      <td>default</td>\n",
       "    </tr>\n",
       "  </tbody>\n",
       "</table>\n",
       "</div>"
      ],
      "text/plain": [
       "          name                                   image     type\n",
       "0         hash         ../info/default_emojis/hash.png  default\n",
       "1  keycap_star  ../info/default_emojis/keycap_star.png  default\n",
       "2         zero         ../info/default_emojis/zero.png  default\n",
       "3          one          ../info/default_emojis/one.png  default\n",
       "4          two          ../info/default_emojis/two.png  default"
      ]
     },
     "execution_count": 22,
     "metadata": {},
     "output_type": "execute_result"
    }
   ],
   "source": [
    "default_emojis.head()"
   ]
  },
  {
   "cell_type": "code",
   "execution_count": 23,
   "metadata": {},
   "outputs": [],
   "source": [
    "default_emojis.to_csv(\"../info/default_emojis.csv\", index=False)"
   ]
  },
  {
   "cell_type": "markdown",
   "metadata": {},
   "source": [
    "### Get custom emojis"
   ]
  },
  {
   "cell_type": "code",
   "execution_count": 24,
   "metadata": {},
   "outputs": [],
   "source": [
    "def get_custom_emojis():\n",
    "    if os.path.exists('../info/custom_emojis/'):\n",
    "        shutil.rmtree('../info/custom_emojis/')\n",
    "    os.mkdir('../info/custom_emojis/') \n",
    "    address = f\"https://slack.com/api/emoji.list?token={token}&pretty=1\"\n",
    "    custom_emojis = sorted(requests.get(address).json()['emoji'].items(), key=lambda k: k[1], reverse=True)\n",
    "    emojis = []\n",
    "    for emoji in custom_emojis:\n",
    "        name = emoji[0]\n",
    "        url = emoji[1]\n",
    "        if \"alias\" not in url:\n",
    "            ext = url.split('.')[-1]\n",
    "            path = f\"../info/custom_emojis/{name}.{ext}\"\n",
    "            wget.download(url, path)\n",
    "            emojis.append([name,path,\"custom\"])\n",
    "        else:\n",
    "            if url.split(\":\")[1] in list(zip(*emojis))[0]:\n",
    "                path = emojis[list(zip(*emojis))[0].index(url.split(\":\")[1])]\n",
    "                emojis.append([name,path,\"custom\"])\n",
    "            else: \n",
    "                path = default_emojis[default_emojis['name']==url.split(\":\")[1]].image.values[0]\n",
    "                emojis.append([name,path,\"default\"])\n",
    "    custom_emojis = pd.DataFrame(emojis, columns=['name','image','type'])\n",
    "    return custom_emojis"
   ]
  },
  {
   "cell_type": "code",
   "execution_count": 25,
   "metadata": {},
   "outputs": [],
   "source": [
    "custom_emojis = get_custom_emojis()"
   ]
  },
  {
   "cell_type": "code",
   "execution_count": 26,
   "metadata": {},
   "outputs": [
    {
     "data": {
      "text/html": [
       "<div>\n",
       "<style scoped>\n",
       "    .dataframe tbody tr th:only-of-type {\n",
       "        vertical-align: middle;\n",
       "    }\n",
       "\n",
       "    .dataframe tbody tr th {\n",
       "        vertical-align: top;\n",
       "    }\n",
       "\n",
       "    .dataframe thead th {\n",
       "        text-align: right;\n",
       "    }\n",
       "</style>\n",
       "<table border=\"1\" class=\"dataframe\">\n",
       "  <thead>\n",
       "    <tr style=\"text-align: right;\">\n",
       "      <th></th>\n",
       "      <th>name</th>\n",
       "      <th>image</th>\n",
       "      <th>type</th>\n",
       "    </tr>\n",
       "  </thead>\n",
       "  <tbody>\n",
       "    <tr>\n",
       "      <th>0</th>\n",
       "      <td>zombie_walking</td>\n",
       "      <td>../info/custom_emojis/zombie_walking.gif</td>\n",
       "      <td>custom</td>\n",
       "    </tr>\n",
       "    <tr>\n",
       "      <th>1</th>\n",
       "      <td>zoidberg</td>\n",
       "      <td>../info/custom_emojis/zoidberg.jpg</td>\n",
       "      <td>custom</td>\n",
       "    </tr>\n",
       "    <tr>\n",
       "      <th>2</th>\n",
       "      <td>young_jeff</td>\n",
       "      <td>../info/custom_emojis/young_jeff.jpg</td>\n",
       "      <td>custom</td>\n",
       "    </tr>\n",
       "    <tr>\n",
       "      <th>3</th>\n",
       "      <td>yoga_flow</td>\n",
       "      <td>../info/custom_emojis/yoga_flow.gif</td>\n",
       "      <td>custom</td>\n",
       "    </tr>\n",
       "    <tr>\n",
       "      <th>4</th>\n",
       "      <td>yodawg</td>\n",
       "      <td>../info/custom_emojis/yodawg.png</td>\n",
       "      <td>custom</td>\n",
       "    </tr>\n",
       "  </tbody>\n",
       "</table>\n",
       "</div>"
      ],
      "text/plain": [
       "             name                                     image    type\n",
       "0  zombie_walking  ../info/custom_emojis/zombie_walking.gif  custom\n",
       "1        zoidberg        ../info/custom_emojis/zoidberg.jpg  custom\n",
       "2      young_jeff      ../info/custom_emojis/young_jeff.jpg  custom\n",
       "3       yoga_flow       ../info/custom_emojis/yoga_flow.gif  custom\n",
       "4          yodawg          ../info/custom_emojis/yodawg.png  custom"
      ]
     },
     "execution_count": 26,
     "metadata": {},
     "output_type": "execute_result"
    }
   ],
   "source": [
    "custom_emojis.head()"
   ]
  },
  {
   "cell_type": "code",
   "execution_count": 27,
   "metadata": {},
   "outputs": [],
   "source": [
    "custom_emojis.to_csv(\"../info/custom_emojis.csv\", index=False)"
   ]
  },
  {
   "cell_type": "markdown",
   "metadata": {},
   "source": [
    "### Join emojis"
   ]
  },
  {
   "cell_type": "code",
   "execution_count": 28,
   "metadata": {},
   "outputs": [],
   "source": [
    "emojis = pd.concat([default_emojis,custom_emojis])"
   ]
  },
  {
   "cell_type": "code",
   "execution_count": 29,
   "metadata": {},
   "outputs": [
    {
     "data": {
      "text/html": [
       "<div>\n",
       "<style scoped>\n",
       "    .dataframe tbody tr th:only-of-type {\n",
       "        vertical-align: middle;\n",
       "    }\n",
       "\n",
       "    .dataframe tbody tr th {\n",
       "        vertical-align: top;\n",
       "    }\n",
       "\n",
       "    .dataframe thead th {\n",
       "        text-align: right;\n",
       "    }\n",
       "</style>\n",
       "<table border=\"1\" class=\"dataframe\">\n",
       "  <thead>\n",
       "    <tr style=\"text-align: right;\">\n",
       "      <th></th>\n",
       "      <th>name</th>\n",
       "      <th>image</th>\n",
       "      <th>type</th>\n",
       "    </tr>\n",
       "  </thead>\n",
       "  <tbody>\n",
       "    <tr>\n",
       "      <th>0</th>\n",
       "      <td>hash</td>\n",
       "      <td>../info/default_emojis/hash.png</td>\n",
       "      <td>default</td>\n",
       "    </tr>\n",
       "    <tr>\n",
       "      <th>1</th>\n",
       "      <td>keycap_star</td>\n",
       "      <td>../info/default_emojis/keycap_star.png</td>\n",
       "      <td>default</td>\n",
       "    </tr>\n",
       "    <tr>\n",
       "      <th>2</th>\n",
       "      <td>zero</td>\n",
       "      <td>../info/default_emojis/zero.png</td>\n",
       "      <td>default</td>\n",
       "    </tr>\n",
       "    <tr>\n",
       "      <th>3</th>\n",
       "      <td>one</td>\n",
       "      <td>../info/default_emojis/one.png</td>\n",
       "      <td>default</td>\n",
       "    </tr>\n",
       "    <tr>\n",
       "      <th>4</th>\n",
       "      <td>two</td>\n",
       "      <td>../info/default_emojis/two.png</td>\n",
       "      <td>default</td>\n",
       "    </tr>\n",
       "  </tbody>\n",
       "</table>\n",
       "</div>"
      ],
      "text/plain": [
       "          name                                   image     type\n",
       "0         hash         ../info/default_emojis/hash.png  default\n",
       "1  keycap_star  ../info/default_emojis/keycap_star.png  default\n",
       "2         zero         ../info/default_emojis/zero.png  default\n",
       "3          one          ../info/default_emojis/one.png  default\n",
       "4          two          ../info/default_emojis/two.png  default"
      ]
     },
     "execution_count": 29,
     "metadata": {},
     "output_type": "execute_result"
    }
   ],
   "source": [
    "emojis.head()"
   ]
  },
  {
   "cell_type": "code",
   "execution_count": 30,
   "metadata": {},
   "outputs": [
    {
     "data": {
      "text/plain": [
       "default    1571\n",
       "custom      586\n",
       "Name: type, dtype: int64"
      ]
     },
     "execution_count": 30,
     "metadata": {},
     "output_type": "execute_result"
    }
   ],
   "source": [
    "emojis.type.value_counts()"
   ]
  },
  {
   "cell_type": "code",
   "execution_count": 31,
   "metadata": {},
   "outputs": [],
   "source": [
    "emojis.to_csv(\"../info/emojis.csv\", index=False)"
   ]
  },
  {
   "cell_type": "markdown",
   "metadata": {},
   "source": [
    "#### Aux function"
   ]
  },
  {
   "cell_type": "code",
   "execution_count": 32,
   "metadata": {},
   "outputs": [],
   "source": [
    "def get_emoji_html(emoji_shortname):\n",
    "    emojis = json.load(open(\"../info/all_default_emojis.json\"))\n",
    "    emoji = list(filter(lambda emoji: emoji['short_name'] == emoji_shortname, emojis))[0]\n",
    "    unified = emoji['unified']\n",
    "    return html.unescape(\"\".join([\"&#x\"+t+\";\" for t in unified.split('-')]))"
   ]
  },
  {
   "cell_type": "code",
   "execution_count": 33,
   "metadata": {},
   "outputs": [
    {
     "data": {
      "text/plain": [
       "'🇨🇴'"
      ]
     },
     "execution_count": 33,
     "metadata": {},
     "output_type": "execute_result"
    }
   ],
   "source": [
    "get_emoji_html(\"flag-co\")"
   ]
  },
  {
   "cell_type": "markdown",
   "metadata": {},
   "source": [
    "Spice it up with: https://slackmojis.com/"
   ]
  }
 ],
 "metadata": {
  "kernelspec": {
   "display_name": "Python 3",
   "language": "python",
   "name": "python3"
  },
  "language_info": {
   "codemirror_mode": {
    "name": "ipython",
    "version": 3
   },
   "file_extension": ".py",
   "mimetype": "text/x-python",
   "name": "python",
   "nbconvert_exporter": "python",
   "pygments_lexer": "ipython3",
   "version": "3.6.7"
  }
 },
 "nbformat": 4,
 "nbformat_minor": 2
}
