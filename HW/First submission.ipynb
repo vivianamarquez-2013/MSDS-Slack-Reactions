{
 "cells": [
  {
   "cell_type": "code",
   "execution_count": 1,
   "metadata": {},
   "outputs": [
    {
     "data": {
      "text/html": [
       "<script type=\"text/javascript\">window.PlotlyConfig = {MathJaxConfig: 'local'};</script><script type=\"text/javascript\">if (window.MathJax) {MathJax.Hub.Config({SVG: {font: \"STIX-Web\"}});}</script><script>requirejs.config({paths: { 'plotly': ['https://cdn.plot.ly/plotly-latest.min']},});if(!window._Plotly) {require(['plotly'],function(plotly) {window._Plotly=plotly;});}</script>"
      ],
      "text/vnd.plotly.v1+html": [
       "<script type=\"text/javascript\">window.PlotlyConfig = {MathJaxConfig: 'local'};</script><script type=\"text/javascript\">if (window.MathJax) {MathJax.Hub.Config({SVG: {font: \"STIX-Web\"}});}</script><script>requirejs.config({paths: { 'plotly': ['https://cdn.plot.ly/plotly-latest.min']},});if(!window._Plotly) {require(['plotly'],function(plotly) {window._Plotly=plotly;});}</script>"
      ]
     },
     "metadata": {},
     "output_type": "display_data"
    }
   ],
   "source": [
    "import pandas as pd\n",
    "import plotly.graph_objs as go\n",
    "from plotly.offline import download_plotlyjs, init_notebook_mode, plot, iplot\n",
    "init_notebook_mode(connected=True)"
   ]
  },
  {
   "cell_type": "code",
   "execution_count": 2,
   "metadata": {},
   "outputs": [],
   "source": [
    "channels = pd.read_csv('../info/channels_labeled.csv')"
   ]
  },
  {
   "cell_type": "code",
   "execution_count": 3,
   "metadata": {},
   "outputs": [
    {
     "data": {
      "text/html": [
       "<div>\n",
       "<style scoped>\n",
       "    .dataframe tbody tr th:only-of-type {\n",
       "        vertical-align: middle;\n",
       "    }\n",
       "\n",
       "    .dataframe tbody tr th {\n",
       "        vertical-align: top;\n",
       "    }\n",
       "\n",
       "    .dataframe thead th {\n",
       "        text-align: right;\n",
       "    }\n",
       "</style>\n",
       "<table border=\"1\" class=\"dataframe\">\n",
       "  <thead>\n",
       "    <tr style=\"text-align: right;\">\n",
       "      <th></th>\n",
       "      <th>text</th>\n",
       "      <th>reactions</th>\n",
       "      <th>ts</th>\n",
       "      <th>user</th>\n",
       "      <th>parent_user_id</th>\n",
       "      <th>files</th>\n",
       "      <th>module</th>\n",
       "      <th>course</th>\n",
       "      <th>count_reactions</th>\n",
       "      <th>date</th>\n",
       "      <th>count_messages</th>\n",
       "    </tr>\n",
       "  </thead>\n",
       "  <tbody>\n",
       "    <tr>\n",
       "      <th>0</th>\n",
       "      <td>&lt;@UBMMHRHE2&gt; has left the channel</td>\n",
       "      <td>NaN</td>\n",
       "      <td>2019-04-26 11:08:19</td>\n",
       "      <td>UBMMHRHE2</td>\n",
       "      <td>NaN</td>\n",
       "      <td>NaN</td>\n",
       "      <td>mod1_summer</td>\n",
       "      <td>computation_for_analytics</td>\n",
       "      <td>0</td>\n",
       "      <td>2019-04-26</td>\n",
       "      <td>1</td>\n",
       "    </tr>\n",
       "    <tr>\n",
       "      <th>1</th>\n",
       "      <td>&lt;@UBKUL888Y&gt; has left the channel</td>\n",
       "      <td>NaN</td>\n",
       "      <td>2019-04-09 10:44:11</td>\n",
       "      <td>UBKUL888Y</td>\n",
       "      <td>NaN</td>\n",
       "      <td>NaN</td>\n",
       "      <td>mod1_summer</td>\n",
       "      <td>computation_for_analytics</td>\n",
       "      <td>0</td>\n",
       "      <td>2019-04-09</td>\n",
       "      <td>1</td>\n",
       "    </tr>\n",
       "    <tr>\n",
       "      <th>2</th>\n",
       "      <td>&lt;@UBLC0B98U&gt; has left the channel</td>\n",
       "      <td>NaN</td>\n",
       "      <td>2019-03-27 20:38:38</td>\n",
       "      <td>UBLC0B98U</td>\n",
       "      <td>NaN</td>\n",
       "      <td>NaN</td>\n",
       "      <td>mod1_summer</td>\n",
       "      <td>computation_for_analytics</td>\n",
       "      <td>0</td>\n",
       "      <td>2019-03-27</td>\n",
       "      <td>1</td>\n",
       "    </tr>\n",
       "    <tr>\n",
       "      <th>3</th>\n",
       "      <td>&lt;@UBL0QKZ9N&gt; has left the channel</td>\n",
       "      <td>NaN</td>\n",
       "      <td>2019-03-19 21:16:21</td>\n",
       "      <td>UBL0QKZ9N</td>\n",
       "      <td>NaN</td>\n",
       "      <td>NaN</td>\n",
       "      <td>mod1_summer</td>\n",
       "      <td>computation_for_analytics</td>\n",
       "      <td>0</td>\n",
       "      <td>2019-03-19</td>\n",
       "      <td>1</td>\n",
       "    </tr>\n",
       "    <tr>\n",
       "      <th>4</th>\n",
       "      <td>&lt;@UBMJ5RRGE&gt; has left the channel</td>\n",
       "      <td>NaN</td>\n",
       "      <td>2019-02-15 01:10:26</td>\n",
       "      <td>UBMJ5RRGE</td>\n",
       "      <td>NaN</td>\n",
       "      <td>NaN</td>\n",
       "      <td>mod1_summer</td>\n",
       "      <td>computation_for_analytics</td>\n",
       "      <td>0</td>\n",
       "      <td>2019-02-15</td>\n",
       "      <td>1</td>\n",
       "    </tr>\n",
       "  </tbody>\n",
       "</table>\n",
       "</div>"
      ],
      "text/plain": [
       "                                text reactions                   ts  \\\n",
       "0  <@UBMMHRHE2> has left the channel       NaN  2019-04-26 11:08:19   \n",
       "1  <@UBKUL888Y> has left the channel       NaN  2019-04-09 10:44:11   \n",
       "2  <@UBLC0B98U> has left the channel       NaN  2019-03-27 20:38:38   \n",
       "3  <@UBL0QKZ9N> has left the channel       NaN  2019-03-19 21:16:21   \n",
       "4  <@UBMJ5RRGE> has left the channel       NaN  2019-02-15 01:10:26   \n",
       "\n",
       "        user parent_user_id files       module                     course  \\\n",
       "0  UBMMHRHE2            NaN   NaN  mod1_summer  computation_for_analytics   \n",
       "1  UBKUL888Y            NaN   NaN  mod1_summer  computation_for_analytics   \n",
       "2  UBLC0B98U            NaN   NaN  mod1_summer  computation_for_analytics   \n",
       "3  UBL0QKZ9N            NaN   NaN  mod1_summer  computation_for_analytics   \n",
       "4  UBMJ5RRGE            NaN   NaN  mod1_summer  computation_for_analytics   \n",
       "\n",
       "   count_reactions        date  count_messages  \n",
       "0                0  2019-04-26               1  \n",
       "1                0  2019-04-09               1  \n",
       "2                0  2019-03-27               1  \n",
       "3                0  2019-03-19               1  \n",
       "4                0  2019-02-15               1  "
      ]
     },
     "execution_count": 3,
     "metadata": {},
     "output_type": "execute_result"
    }
   ],
   "source": [
    "messages = pd.read_csv(\"../info/messages.csv\")\n",
    "messages['count_messages'] = 1\n",
    "messages.head()"
   ]
  },
  {
   "cell_type": "code",
   "execution_count": 4,
   "metadata": {},
   "outputs": [
    {
     "data": {
      "text/html": [
       "<div>\n",
       "<style scoped>\n",
       "    .dataframe tbody tr th:only-of-type {\n",
       "        vertical-align: middle;\n",
       "    }\n",
       "\n",
       "    .dataframe tbody tr th {\n",
       "        vertical-align: top;\n",
       "    }\n",
       "\n",
       "    .dataframe thead th {\n",
       "        text-align: right;\n",
       "    }\n",
       "</style>\n",
       "<table border=\"1\" class=\"dataframe\">\n",
       "  <thead>\n",
       "    <tr style=\"text-align: right;\">\n",
       "      <th></th>\n",
       "      <th>module</th>\n",
       "      <th>count_reactions</th>\n",
       "      <th>count_messages</th>\n",
       "    </tr>\n",
       "  </thead>\n",
       "  <tbody>\n",
       "    <tr>\n",
       "      <th>6</th>\n",
       "      <td>others</td>\n",
       "      <td>15662</td>\n",
       "      <td>4224</td>\n",
       "    </tr>\n",
       "    <tr>\n",
       "      <th>4</th>\n",
       "      <td>mod5_spring1</td>\n",
       "      <td>5011</td>\n",
       "      <td>2301</td>\n",
       "    </tr>\n",
       "    <tr>\n",
       "      <th>2</th>\n",
       "      <td>mod3_fall2</td>\n",
       "      <td>3698</td>\n",
       "      <td>1830</td>\n",
       "    </tr>\n",
       "    <tr>\n",
       "      <th>1</th>\n",
       "      <td>mod2_fall1</td>\n",
       "      <td>3594</td>\n",
       "      <td>3334</td>\n",
       "    </tr>\n",
       "    <tr>\n",
       "      <th>5</th>\n",
       "      <td>mod6_spring2</td>\n",
       "      <td>2735</td>\n",
       "      <td>1316</td>\n",
       "    </tr>\n",
       "    <tr>\n",
       "      <th>0</th>\n",
       "      <td>mod1_summer</td>\n",
       "      <td>2274</td>\n",
       "      <td>3157</td>\n",
       "    </tr>\n",
       "    <tr>\n",
       "      <th>3</th>\n",
       "      <td>mod4_winter</td>\n",
       "      <td>945</td>\n",
       "      <td>503</td>\n",
       "    </tr>\n",
       "  </tbody>\n",
       "</table>\n",
       "</div>"
      ],
      "text/plain": [
       "         module  count_reactions  count_messages\n",
       "6        others            15662            4224\n",
       "4  mod5_spring1             5011            2301\n",
       "2    mod3_fall2             3698            1830\n",
       "1    mod2_fall1             3594            3334\n",
       "5  mod6_spring2             2735            1316\n",
       "0   mod1_summer             2274            3157\n",
       "3   mod4_winter              945             503"
      ]
     },
     "execution_count": 4,
     "metadata": {},
     "output_type": "execute_result"
    }
   ],
   "source": [
    "messages.groupby(['module']).sum().reset_index().sort_values(by=['count_reactions'], ascending=False)"
   ]
  },
  {
   "cell_type": "code",
   "execution_count": 5,
   "metadata": {},
   "outputs": [],
   "source": [
    "df = messages.groupby(['module']).sum().reset_index().sort_values(by=['count_reactions'], ascending=True)\n",
    "df['courses'] = df['module'].apply(lambda mod: \"\".join([f\"- {course}<br>\" for course in channels[channels['folder']==mod].actual_name.unique()]))\n",
    "\n",
    "trace1 = go.Bar(\n",
    "                x=df.module.values,\n",
    "                y=df.count_reactions.values,\n",
    "                #text=[f\"Reactions: {num_reac:,d}\" for num_reac in df.count_reactions],\n",
    "                opacity=0.6,\n",
    "                marker=dict(color='rgb(202,224,158)',\n",
    "                            line=dict(color='rgb(3,42,26)',width=1.5,)\n",
    "                           ),\n",
    "                name=\"Reactions\"\n",
    "                )\n",
    "\n",
    "trace2 = go.Bar(\n",
    "                x=df.module.values,\n",
    "                y=df.count_messages.values,\n",
    "                #text=[f\"Messages: {num_msg:,d}\" for num_msg in df.count_messages],\n",
    "                opacity=0.6,\n",
    "                marker=dict(color='rgb(224,180,158)',\n",
    "                            line=dict(color='rgb(90,55,6)',width=1.5,)\n",
    "                           ),\n",
    "                name=\"Messages\"\n",
    "                )\n",
    "\n",
    "data = [trace1, trace2]\n",
    "\n",
    "layout = go.Layout(title='Number of reactions in Slack per module in MSDS',\n",
    "                   xaxis=dict(title='Module'),\n",
    "                   yaxis=dict(title='Number of reactions')\n",
    "                  )\n",
    "\n",
    "fig = go.Figure(data=data, layout=layout)"
   ]
  },
  {
   "cell_type": "code",
   "execution_count": 6,
   "metadata": {
    "slideshow": {
     "slide_type": "slide"
    }
   },
   "outputs": [
    {
     "data": {
      "application/vnd.plotly.v1+json": {
       "config": {
        "linkText": "Export to plot.ly",
        "plotlyServerURL": "https://plot.ly",
        "showLink": false
       },
       "data": [
        {
         "marker": {
          "color": "rgb(202,224,158)",
          "line": {
           "color": "rgb(3,42,26)",
           "width": 1.5
          }
         },
         "name": "Reactions",
         "opacity": 0.6,
         "type": "bar",
         "uid": "84a65d36-28a7-427e-ad2e-846662ec9fb9",
         "x": [
          "mod4_winter",
          "mod1_summer",
          "mod6_spring2",
          "mod2_fall1",
          "mod3_fall2",
          "mod5_spring1",
          "others"
         ],
         "y": [
          945,
          2274,
          2735,
          3594,
          3698,
          5011,
          15662
         ]
        },
        {
         "marker": {
          "color": "rgb(224,180,158)",
          "line": {
           "color": "rgb(90,55,6)",
           "width": 1.5
          }
         },
         "name": "Messages",
         "opacity": 0.6,
         "type": "bar",
         "uid": "fd3c979e-3fdc-4ebd-acba-6b09714a63ac",
         "x": [
          "mod4_winter",
          "mod1_summer",
          "mod6_spring2",
          "mod2_fall1",
          "mod3_fall2",
          "mod5_spring1",
          "others"
         ],
         "y": [
          503,
          3157,
          1316,
          3334,
          1830,
          2301,
          4224
         ]
        }
       ],
       "layout": {
        "title": {
         "text": "Number of reactions in Slack per module in MSDS"
        },
        "xaxis": {
         "title": {
          "text": "Module"
         }
        },
        "yaxis": {
         "title": {
          "text": "Number of reactions"
         }
        }
       }
      },
      "text/html": [
       "<div id=\"d92f2841-3805-4792-9623-3aedf89a1c43\" style=\"height: 525px; width: 100%;\" class=\"plotly-graph-div\"></div><script type=\"text/javascript\">require([\"plotly\"], function(Plotly) { window.PLOTLYENV=window.PLOTLYENV || {};window.PLOTLYENV.BASE_URL=\"https://plot.ly\";\n",
       "if (document.getElementById(\"d92f2841-3805-4792-9623-3aedf89a1c43\")) {\n",
       "    Plotly.newPlot(\"d92f2841-3805-4792-9623-3aedf89a1c43\", [{\"marker\": {\"color\": \"rgb(202,224,158)\", \"line\": {\"color\": \"rgb(3,42,26)\", \"width\": 1.5}}, \"name\": \"Reactions\", \"opacity\": 0.6, \"x\": [\"mod4_winter\", \"mod1_summer\", \"mod6_spring2\", \"mod2_fall1\", \"mod3_fall2\", \"mod5_spring1\", \"others\"], \"y\": [945, 2274, 2735, 3594, 3698, 5011, 15662], \"type\": \"bar\", \"uid\": \"84a65d36-28a7-427e-ad2e-846662ec9fb9\"}, {\"marker\": {\"color\": \"rgb(224,180,158)\", \"line\": {\"color\": \"rgb(90,55,6)\", \"width\": 1.5}}, \"name\": \"Messages\", \"opacity\": 0.6, \"x\": [\"mod4_winter\", \"mod1_summer\", \"mod6_spring2\", \"mod2_fall1\", \"mod3_fall2\", \"mod5_spring1\", \"others\"], \"y\": [503, 3157, 1316, 3334, 1830, 2301, 4224], \"type\": \"bar\", \"uid\": \"fd3c979e-3fdc-4ebd-acba-6b09714a63ac\"}], {\"title\": {\"text\": \"Number of reactions in Slack per module in MSDS\"}, \"xaxis\": {\"title\": {\"text\": \"Module\"}}, \"yaxis\": {\"title\": {\"text\": \"Number of reactions\"}}}, {\"showLink\": false, \"linkText\": \"Export to plot.ly\", \"plotlyServerURL\": \"https://plot.ly\"}); \n",
       "}\n",
       "});</script><script type=\"text/javascript\">window.addEventListener(\"resize\", function(){if (document.getElementById(\"d92f2841-3805-4792-9623-3aedf89a1c43\")) {window._Plotly.Plots.resize(document.getElementById(\"d92f2841-3805-4792-9623-3aedf89a1c43\"));};})</script>"
      ],
      "text/vnd.plotly.v1+html": [
       "<div id=\"d92f2841-3805-4792-9623-3aedf89a1c43\" style=\"height: 525px; width: 100%;\" class=\"plotly-graph-div\"></div><script type=\"text/javascript\">require([\"plotly\"], function(Plotly) { window.PLOTLYENV=window.PLOTLYENV || {};window.PLOTLYENV.BASE_URL=\"https://plot.ly\";\n",
       "if (document.getElementById(\"d92f2841-3805-4792-9623-3aedf89a1c43\")) {\n",
       "    Plotly.newPlot(\"d92f2841-3805-4792-9623-3aedf89a1c43\", [{\"marker\": {\"color\": \"rgb(202,224,158)\", \"line\": {\"color\": \"rgb(3,42,26)\", \"width\": 1.5}}, \"name\": \"Reactions\", \"opacity\": 0.6, \"x\": [\"mod4_winter\", \"mod1_summer\", \"mod6_spring2\", \"mod2_fall1\", \"mod3_fall2\", \"mod5_spring1\", \"others\"], \"y\": [945, 2274, 2735, 3594, 3698, 5011, 15662], \"type\": \"bar\", \"uid\": \"84a65d36-28a7-427e-ad2e-846662ec9fb9\"}, {\"marker\": {\"color\": \"rgb(224,180,158)\", \"line\": {\"color\": \"rgb(90,55,6)\", \"width\": 1.5}}, \"name\": \"Messages\", \"opacity\": 0.6, \"x\": [\"mod4_winter\", \"mod1_summer\", \"mod6_spring2\", \"mod2_fall1\", \"mod3_fall2\", \"mod5_spring1\", \"others\"], \"y\": [503, 3157, 1316, 3334, 1830, 2301, 4224], \"type\": \"bar\", \"uid\": \"fd3c979e-3fdc-4ebd-acba-6b09714a63ac\"}], {\"title\": {\"text\": \"Number of reactions in Slack per module in MSDS\"}, \"xaxis\": {\"title\": {\"text\": \"Module\"}}, \"yaxis\": {\"title\": {\"text\": \"Number of reactions\"}}}, {\"showLink\": false, \"linkText\": \"Export to plot.ly\", \"plotlyServerURL\": \"https://plot.ly\"}); \n",
       "}\n",
       "});</script><script type=\"text/javascript\">window.addEventListener(\"resize\", function(){if (document.getElementById(\"d92f2841-3805-4792-9623-3aedf89a1c43\")) {window._Plotly.Plots.resize(document.getElementById(\"d92f2841-3805-4792-9623-3aedf89a1c43\"));};})</script>"
      ]
     },
     "metadata": {},
     "output_type": "display_data"
    }
   ],
   "source": [
    "iplot(fig, filename='grouped-bar-direct-labels')"
   ]
  }
 ],
 "metadata": {
  "kernelspec": {
   "display_name": "Python 3",
   "language": "python",
   "name": "python3"
  },
  "language_info": {
   "codemirror_mode": {
    "name": "ipython",
    "version": 3
   },
   "file_extension": ".py",
   "mimetype": "text/x-python",
   "name": "python",
   "nbconvert_exporter": "python",
   "pygments_lexer": "ipython3",
   "version": "3.6.7"
  }
 },
 "nbformat": 4,
 "nbformat_minor": 2
}
